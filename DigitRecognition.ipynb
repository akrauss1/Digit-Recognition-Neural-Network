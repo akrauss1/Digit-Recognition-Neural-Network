{
 "cells": [
  {
   "cell_type": "markdown",
   "metadata": {},
   "source": [
    "# Fun with Neural Nets\n"
   ]
  },
  {
   "cell_type": "markdown",
   "metadata": {},
   "source": [
    "Below is a procedure for building a neural network to recognize handwritten digits.  The data is from Kaggle, and you will submit your results to Kaggle to test how well you did!\n",
    "\n",
    "1. Load the training data (`train.csv`) from Kaggle\n",
    "2. Setup X and y (feature matrix and target vector)\n",
    "3. Split X and y into train and test subsets.\n",
    "4. Preprocess your data\n",
    "\n",
    "   - When dealing with image data, you need to normalize your `X` by dividing each value by the max value of a pixel (255).\n",
    "   - Since this is a multiclass classification problem, keras needs `y` to be a one-hot encoded matrix\n",
    "   \n",
    "5. Create your network.\n",
    "\n",
    "   - Remember that for multi-class classification you need a softamx activation function on the output layer.\n",
    "   - You may want to consider using regularization or dropout to improve performance.\n",
    "   \n",
    "6. Trian your network.\n",
    "7. If you are unhappy with your model performance, try to tighten up your model by adding hidden layers, adding hidden layer units, chaning the activation functions on the hidden layers, etc.\n",
    "8. Load in Kaggle's `test.csv`\n",
    "9. Create your predictions (these should be numbers in the range 0-9).\n",
    "10. Save your predictions and submit them to Kaggle."
   ]
  },
  {
   "cell_type": "markdown",
   "metadata": {},
   "source": [
    "---\n",
    "\n",
    "For this lab, you should complete the above sequence of steps for _at least_ two of the three \"configurations\":\n",
    "\n",
    "1. Using a `tensorflow` network\n",
    "2. Using a `keras` \"sequential\" network\n",
    "3. Using a `keras` convolutional network\n",
    "4. Using a `tensorflow` convolutional network (we did _not_ cover this in class!)"
   ]
  },
  {
   "cell_type": "code",
   "execution_count": 127,
   "metadata": {},
   "outputs": [],
   "source": [
    "import pandas as pd\n",
    "#from sklearn.preprocessing import StandardScaler\n",
    "from keras.models import Sequential\n",
    "from keras.layers import Dense, Input, Dropout, Flatten, Convolution2D, MaxPooling2D, Conv1D,Conv2D,GlobalAveragePooling1D, MaxPooling1D\n",
    "from keras.utils import np_utils\n",
    "from sklearn.model_selection import train_test_split\n",
    "from keras import regularizers\n",
    "from keras.callbacks import EarlyStopping\n",
    "from keras.datasets import cifar10\n",
    "from keras.optimizers import SGD\n",
    "from keras.preprocessing.image import ImageDataGenerator\n",
    "import os"
   ]
  },
  {
   "cell_type": "code",
   "execution_count": 197,
   "metadata": {},
   "outputs": [],
   "source": [
    "df = pd.read_csv('train.csv')"
   ]
  },
  {
   "cell_type": "code",
   "execution_count": 198,
   "metadata": {},
   "outputs": [],
   "source": [
    "X = df[df.columns[1:]]\n",
    "y= df['label']"
   ]
  },
  {
   "cell_type": "code",
   "execution_count": 199,
   "metadata": {},
   "outputs": [],
   "source": [
    "y= np_utils.to_categorical(y)"
   ]
  },
  {
   "cell_type": "code",
   "execution_count": 215,
   "metadata": {},
   "outputs": [],
   "source": [
    "X_train, X_test, y_train, y_test = train_test_split(X, y)\n",
    "\n",
    "X_train = X_train / 255\n",
    "X_test = X_test / 255"
   ]
  },
  {
   "cell_type": "code",
   "execution_count": 216,
   "metadata": {},
   "outputs": [
    {
     "name": "stdout",
     "output_type": "stream",
     "text": [
      "(31500, 784)\n",
      "(31500, 10)\n"
     ]
    }
   ],
   "source": [
    "print(X_train.shape)\n",
    "\n",
    "print(y_train.shape)"
   ]
  },
  {
   "cell_type": "code",
   "execution_count": 221,
   "metadata": {},
   "outputs": [],
   "source": [
    "model = Sequential()\n",
    "model.add(Dense(X_train.shape[1], input_shape=(784,), activation='relu'))\n",
    "model.add(Dropout(.25))\n",
    "model.add(Dense(100, activation='relu'))\n",
    "model.add(Dropout(.25))\n",
    "model.add(Dense(10, activation= 'softmax'))\n",
    "\n",
    "early_stopping = EarlyStopping(monitor='val_loss', patience=10, verbose=1, mode='auto')\n",
    "   \n",
    "sgd = SGD(lr=0.01, decay=1e-6, momentum=0.9, nesterov=True)\n",
    "model.compile(optimizer = sgd, metrics=['accuracy'], loss='categorical_crossentropy')"
   ]
  },
  {
   "cell_type": "code",
   "execution_count": 222,
   "metadata": {},
   "outputs": [
    {
     "name": "stdout",
     "output_type": "stream",
     "text": [
      "Train on 31500 samples, validate on 10500 samples\n",
      "Epoch 1/20\n",
      "31500/31500 [==============================] - 7s 214us/step - loss: 0.6084 - acc: 0.8152 - val_loss: 0.2637 - val_acc: 0.9229\n",
      "Epoch 2/20\n",
      "31500/31500 [==============================] - 6s 191us/step - loss: 0.2781 - acc: 0.9190 - val_loss: 0.1916 - val_acc: 0.9440\n",
      "Epoch 3/20\n",
      "31500/31500 [==============================] - 5s 161us/step - loss: 0.2100 - acc: 0.9376 - val_loss: 0.1571 - val_acc: 0.9542\n",
      "Epoch 4/20\n",
      "31500/31500 [==============================] - 5s 171us/step - loss: 0.1745 - acc: 0.9488 - val_loss: 0.1338 - val_acc: 0.9615\n",
      "Epoch 5/20\n",
      "31500/31500 [==============================] - 7s 213us/step - loss: 0.1452 - acc: 0.9573 - val_loss: 0.1211 - val_acc: 0.9641\n",
      "Epoch 6/20\n",
      "31500/31500 [==============================] - 6s 179us/step - loss: 0.1253 - acc: 0.9628 - val_loss: 0.1109 - val_acc: 0.9659\n",
      "Epoch 7/20\n",
      "31500/31500 [==============================] - 6s 199us/step - loss: 0.1108 - acc: 0.9675 - val_loss: 0.1042 - val_acc: 0.9680\n",
      "Epoch 8/20\n",
      "31500/31500 [==============================] - 5s 168us/step - loss: 0.0975 - acc: 0.9707 - val_loss: 0.0952 - val_acc: 0.9705\n",
      "Epoch 9/20\n",
      "31500/31500 [==============================] - 5s 169us/step - loss: 0.0890 - acc: 0.9742 - val_loss: 0.0935 - val_acc: 0.9730\n",
      "Epoch 10/20\n",
      "31500/31500 [==============================] - 5s 170us/step - loss: 0.0785 - acc: 0.9767 - val_loss: 0.0882 - val_acc: 0.9737\n",
      "Epoch 11/20\n",
      "31500/31500 [==============================] - 7s 220us/step - loss: 0.0697 - acc: 0.9788 - val_loss: 0.0887 - val_acc: 0.9749\n",
      "Epoch 12/20\n",
      "31500/31500 [==============================] - 5s 164us/step - loss: 0.0663 - acc: 0.9803 - val_loss: 0.0833 - val_acc: 0.9749\n",
      "Epoch 13/20\n",
      "31500/31500 [==============================] - 6s 177us/step - loss: 0.0612 - acc: 0.9814 - val_loss: 0.0799 - val_acc: 0.9766\n",
      "Epoch 14/20\n",
      "31500/31500 [==============================] - 5s 158us/step - loss: 0.0541 - acc: 0.9841 - val_loss: 0.0797 - val_acc: 0.9764\n",
      "Epoch 15/20\n",
      "31500/31500 [==============================] - 5s 158us/step - loss: 0.0491 - acc: 0.9853 - val_loss: 0.0789 - val_acc: 0.9766\n",
      "Epoch 16/20\n",
      "31500/31500 [==============================] - 5s 159us/step - loss: 0.0471 - acc: 0.9858 - val_loss: 0.0781 - val_acc: 0.9770\n",
      "Epoch 17/20\n",
      "31500/31500 [==============================] - 5s 157us/step - loss: 0.0431 - acc: 0.9869 - val_loss: 0.0769 - val_acc: 0.9780\n",
      "Epoch 18/20\n",
      "31500/31500 [==============================] - 5s 157us/step - loss: 0.0409 - acc: 0.9879 - val_loss: 0.0756 - val_acc: 0.9783\n",
      "Epoch 19/20\n",
      "31500/31500 [==============================] - 5s 159us/step - loss: 0.0379 - acc: 0.9890 - val_loss: 0.0738 - val_acc: 0.9777\n",
      "Epoch 20/20\n",
      "31500/31500 [==============================] - 5s 161us/step - loss: 0.0350 - acc: 0.9899 - val_loss: 0.0761 - val_acc: 0.9784\n"
     ]
    },
    {
     "data": {
      "text/plain": [
       "<keras.callbacks.History at 0x1a157cadd8>"
      ]
     },
     "execution_count": 222,
     "metadata": {},
     "output_type": "execute_result"
    }
   ],
   "source": [
    "model.fit(X_train, y_train, validation_data=(X_test, y_test), epochs=20, batch_size=100, callbacks= [early_stopping])"
   ]
  },
  {
   "cell_type": "code",
   "execution_count": 223,
   "metadata": {},
   "outputs": [],
   "source": [
    "X_train = X_train.values.reshape(X_train.shape[0],28,28,1)\n",
    "X_test = X_test.values.reshape(X_test.shape[0],28,28,1)"
   ]
  },
  {
   "cell_type": "code",
   "execution_count": 227,
   "metadata": {
    "scrolled": true
   },
   "outputs": [],
   "source": [
    "model = Sequential()\n",
    "\n",
    "model = Sequential()\n",
    "model.add(Conv2D(32, kernel_size=(3, 3),\n",
    "                 activation='relu',\n",
    "                 input_shape=(28, 28, 1)))\n",
    "model.add(Conv2D(64, (3, 3), activation='relu'))\n",
    "model.add(MaxPooling2D(pool_size=(2, 2)))\n",
    "model.add(Dropout(0.25))\n",
    "model.add(Flatten())\n",
    "model.add(Dense(128, activation='relu'))\n",
    "model.add(Dropout(0.5))\n",
    "model.add(Dense(10, activation='softmax'))\n",
    "\n",
    "early_stopping = EarlyStopping(monitor='val_loss', patience=10, verbose=1, mode='auto')\n",
    "\n",
    "\n",
    "sgd = SGD(lr=0.01, decay=1e-6, momentum=0.9, nesterov=True)\n",
    "model.compile(loss='categorical_crossentropy',metrics=['accuracy'], optimizer=sgd)\n",
    "\n"
   ]
  },
  {
   "cell_type": "code",
   "execution_count": 228,
   "metadata": {},
   "outputs": [
    {
     "name": "stdout",
     "output_type": "stream",
     "text": [
      "Train on 31500 samples, validate on 10500 samples\n",
      "Epoch 1/30\n",
      "31500/31500 [==============================] - 88s 3ms/step - loss: 0.6119 - acc: 0.8036 - val_loss: 0.2185 - val_acc: 0.9361\n",
      "Epoch 2/30\n",
      "31500/31500 [==============================] - 87s 3ms/step - loss: 0.2851 - acc: 0.9134 - val_loss: 0.1350 - val_acc: 0.9613\n",
      "Epoch 3/30\n",
      "31500/31500 [==============================] - 87s 3ms/step - loss: 0.1901 - acc: 0.9415 - val_loss: 0.0919 - val_acc: 0.9730\n",
      "Epoch 4/30\n",
      "31500/31500 [==============================] - 92s 3ms/step - loss: 0.1402 - acc: 0.9576 - val_loss: 0.0777 - val_acc: 0.9775\n",
      "Epoch 5/30\n",
      "31500/31500 [==============================] - 98s 3ms/step - loss: 0.1107 - acc: 0.9664 - val_loss: 0.0725 - val_acc: 0.9782\n",
      "Epoch 6/30\n",
      "31500/31500 [==============================] - 91s 3ms/step - loss: 0.0918 - acc: 0.9712 - val_loss: 0.0614 - val_acc: 0.9821\n",
      "Epoch 7/30\n",
      "31500/31500 [==============================] - 93s 3ms/step - loss: 0.0832 - acc: 0.9737 - val_loss: 0.0561 - val_acc: 0.9837\n",
      "Epoch 8/30\n",
      "31500/31500 [==============================] - 99s 3ms/step - loss: 0.0759 - acc: 0.9768 - val_loss: 0.0499 - val_acc: 0.9852\n",
      "Epoch 9/30\n",
      "31500/31500 [==============================] - 108s 3ms/step - loss: 0.0664 - acc: 0.9796 - val_loss: 0.0508 - val_acc: 0.9850\n",
      "Epoch 10/30\n",
      "31500/31500 [==============================] - 109s 3ms/step - loss: 0.0577 - acc: 0.9811 - val_loss: 0.0513 - val_acc: 0.9847\n",
      "Epoch 11/30\n",
      "31500/31500 [==============================] - 113s 4ms/step - loss: 0.0527 - acc: 0.9832 - val_loss: 0.0470 - val_acc: 0.9870\n",
      "Epoch 12/30\n",
      "31500/31500 [==============================] - 116s 4ms/step - loss: 0.0509 - acc: 0.9837 - val_loss: 0.0489 - val_acc: 0.9866\n",
      "Epoch 13/30\n",
      "31500/31500 [==============================] - 119s 4ms/step - loss: 0.0492 - acc: 0.9841 - val_loss: 0.0468 - val_acc: 0.9860\n",
      "Epoch 14/30\n",
      "31500/31500 [==============================] - 108s 3ms/step - loss: 0.0433 - acc: 0.9860 - val_loss: 0.0504 - val_acc: 0.9862\n",
      "Epoch 15/30\n",
      "31500/31500 [==============================] - 98s 3ms/step - loss: 0.0400 - acc: 0.9865 - val_loss: 0.0496 - val_acc: 0.9858\n",
      "Epoch 16/30\n",
      "31500/31500 [==============================] - 107s 3ms/step - loss: 0.0386 - acc: 0.9876 - val_loss: 0.0482 - val_acc: 0.9870\n",
      "Epoch 17/30\n",
      "31500/31500 [==============================] - 100s 3ms/step - loss: 0.0385 - acc: 0.9876 - val_loss: 0.0467 - val_acc: 0.9874\n",
      "Epoch 18/30\n",
      "31500/31500 [==============================] - 103s 3ms/step - loss: 0.0350 - acc: 0.9887 - val_loss: 0.0471 - val_acc: 0.9877\n",
      "Epoch 19/30\n",
      "31500/31500 [==============================] - 102s 3ms/step - loss: 0.0311 - acc: 0.9897 - val_loss: 0.0478 - val_acc: 0.9871\n",
      "Epoch 20/30\n",
      "31500/31500 [==============================] - 106s 3ms/step - loss: 0.0303 - acc: 0.9897 - val_loss: 0.0523 - val_acc: 0.9871\n",
      "Epoch 21/30\n",
      "31500/31500 [==============================] - 108s 3ms/step - loss: 0.0287 - acc: 0.9910 - val_loss: 0.0472 - val_acc: 0.9878\n",
      "Epoch 22/30\n",
      "31500/31500 [==============================] - 114s 4ms/step - loss: 0.0274 - acc: 0.9910 - val_loss: 0.0500 - val_acc: 0.9871\n",
      "Epoch 23/30\n",
      "31500/31500 [==============================] - 101s 3ms/step - loss: 0.0270 - acc: 0.9915 - val_loss: 0.0476 - val_acc: 0.9876\n",
      "Epoch 24/30\n",
      "31500/31500 [==============================] - 103s 3ms/step - loss: 0.0262 - acc: 0.9915 - val_loss: 0.0486 - val_acc: 0.9874\n",
      "Epoch 25/30\n",
      "31500/31500 [==============================] - 103s 3ms/step - loss: 0.0238 - acc: 0.9923 - val_loss: 0.0539 - val_acc: 0.9872\n",
      "Epoch 26/30\n",
      "31500/31500 [==============================] - 100s 3ms/step - loss: 0.0226 - acc: 0.9918 - val_loss: 0.0470 - val_acc: 0.9881\n",
      "Epoch 27/30\n",
      "31500/31500 [==============================] - 98s 3ms/step - loss: 0.0229 - acc: 0.9921 - val_loss: 0.0487 - val_acc: 0.9877\n",
      "Epoch 00027: early stopping\n"
     ]
    },
    {
     "data": {
      "text/plain": [
       "<keras.callbacks.History at 0x1a1a2271d0>"
      ]
     },
     "execution_count": 228,
     "metadata": {},
     "output_type": "execute_result"
    }
   ],
   "source": [
    "model.fit(X_train, y_train, validation_data=(X_test, y_test), epochs = 30, batch_size = 100, verbose=1, callbacks= [early_stopping])"
   ]
  },
  {
   "cell_type": "code",
   "execution_count": 229,
   "metadata": {},
   "outputs": [],
   "source": [
    "test = pd.read_csv('test.csv')"
   ]
  },
  {
   "cell_type": "code",
   "execution_count": 230,
   "metadata": {},
   "outputs": [],
   "source": [
    "test = test / 255"
   ]
  },
  {
   "cell_type": "code",
   "execution_count": 231,
   "metadata": {},
   "outputs": [],
   "source": [
    "test_features = test.values.reshape(test.shape[0], 28, 28, 1)"
   ]
  },
  {
   "cell_type": "code",
   "execution_count": 232,
   "metadata": {},
   "outputs": [],
   "source": [
    "digit_prediction = model.predict_classes(test_features)"
   ]
  },
  {
   "cell_type": "code",
   "execution_count": 234,
   "metadata": {},
   "outputs": [],
   "source": [
    "test['Label'] = digit_prediction\n",
    "test['ImageID'] = range(1, test.shape[0] + 1)\n",
    "test[['ImageID','Label']].to_csv('submission.csv', index=False)"
   ]
  },
  {
   "cell_type": "code",
   "execution_count": null,
   "metadata": {},
   "outputs": [],
   "source": []
  }
 ],
 "metadata": {
  "kernelspec": {
   "display_name": "Python 3",
   "language": "python",
   "name": "python3"
  },
  "language_info": {
   "codemirror_mode": {
    "name": "ipython",
    "version": 3
   },
   "file_extension": ".py",
   "mimetype": "text/x-python",
   "name": "python",
   "nbconvert_exporter": "python",
   "pygments_lexer": "ipython3",
   "version": "3.6.4"
  }
 },
 "nbformat": 4,
 "nbformat_minor": 2
}
